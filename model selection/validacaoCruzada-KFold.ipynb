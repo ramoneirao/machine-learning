{
 "cells": [
  {
   "cell_type": "markdown",
   "id": "642a6150",
   "metadata": {},
   "source": [
    "# **Validação Cruzada com K-Fold**\n",
    "\n",
    "Este notebook tem como objetivo explorar e aplicar a técnica de **validação cruzada K-Fold**. \n",
    "\n",
    "## **O que é Validação Cruzada K-Fold?**\n",
    "É uma técnica estatística utilizada para avaliar a performance de modelos de machine learning. Ela consiste em dividir o conjunto de dados em **K partes (ou folds)**, onde o modelo é treinado em K-1 partes e testado na parte restante. Esse processo é repetido K vezes, garantindo que cada parte seja utilizada como conjunto de teste exatamente uma vez.\n",
    "\n",
    "## **Objetivos**\n",
    "- Implementar a técnica de validação cruzada K-Fold.\n",
    "- Avaliar a performance de modelos de machine learning utilizando diferentes métricas.\n",
    "- Comparar os resultados obtidos com e sem validação cruzada.\n",
    "\n",
    "A validação cruzada é uma etapa fundamental para garantir que o modelo generalize bem para novos dados, evitando problemas como overfitting ou underfitting."
   ]
  },
  {
   "cell_type": "code",
   "execution_count": null,
   "id": "a2bc3f83",
   "metadata": {},
   "outputs": [],
   "source": [
    "import pandas as pd\n",
    "from sklearn.model_selection import cross_val_score, KFold, train_test_split\n",
    "from src.utils import *\n",
    "\n",
    "pd.set_option('display.max_columns', None)  \n",
    "pd.set_option('display.width', 1000)"
   ]
  },
  {
   "cell_type": "code",
   "execution_count": 2,
   "id": "089a852b",
   "metadata": {},
   "outputs": [],
   "source": [
    "df = pd.read_csv('../base/Admission_Predict.csv')\n",
    "df.drop(columns=['Serial No.'], inplace=True)"
   ]
  },
  {
   "cell_type": "code",
   "execution_count": 3,
   "id": "e16ebe61",
   "metadata": {},
   "outputs": [
    {
     "data": {
      "text/html": [
       "<div>\n",
       "<style scoped>\n",
       "    .dataframe tbody tr th:only-of-type {\n",
       "        vertical-align: middle;\n",
       "    }\n",
       "\n",
       "    .dataframe tbody tr th {\n",
       "        vertical-align: top;\n",
       "    }\n",
       "\n",
       "    .dataframe thead th {\n",
       "        text-align: right;\n",
       "    }\n",
       "</style>\n",
       "<table border=\"1\" class=\"dataframe\">\n",
       "  <thead>\n",
       "    <tr style=\"text-align: right;\">\n",
       "      <th></th>\n",
       "      <th>GRE Score</th>\n",
       "      <th>TOEFL Score</th>\n",
       "      <th>University Rating</th>\n",
       "      <th>SOP</th>\n",
       "      <th>LOR</th>\n",
       "      <th>CGPA</th>\n",
       "      <th>Research</th>\n",
       "      <th>Chance of Admit</th>\n",
       "    </tr>\n",
       "  </thead>\n",
       "  <tbody>\n",
       "    <tr>\n",
       "      <th>0</th>\n",
       "      <td>337</td>\n",
       "      <td>118</td>\n",
       "      <td>4</td>\n",
       "      <td>4.5</td>\n",
       "      <td>4.5</td>\n",
       "      <td>9.65</td>\n",
       "      <td>1</td>\n",
       "      <td>0.92</td>\n",
       "    </tr>\n",
       "    <tr>\n",
       "      <th>1</th>\n",
       "      <td>324</td>\n",
       "      <td>107</td>\n",
       "      <td>4</td>\n",
       "      <td>4.0</td>\n",
       "      <td>4.5</td>\n",
       "      <td>8.87</td>\n",
       "      <td>1</td>\n",
       "      <td>0.76</td>\n",
       "    </tr>\n",
       "    <tr>\n",
       "      <th>2</th>\n",
       "      <td>316</td>\n",
       "      <td>104</td>\n",
       "      <td>3</td>\n",
       "      <td>3.0</td>\n",
       "      <td>3.5</td>\n",
       "      <td>8.00</td>\n",
       "      <td>1</td>\n",
       "      <td>0.72</td>\n",
       "    </tr>\n",
       "    <tr>\n",
       "      <th>3</th>\n",
       "      <td>322</td>\n",
       "      <td>110</td>\n",
       "      <td>3</td>\n",
       "      <td>3.5</td>\n",
       "      <td>2.5</td>\n",
       "      <td>8.67</td>\n",
       "      <td>1</td>\n",
       "      <td>0.80</td>\n",
       "    </tr>\n",
       "    <tr>\n",
       "      <th>4</th>\n",
       "      <td>314</td>\n",
       "      <td>103</td>\n",
       "      <td>2</td>\n",
       "      <td>2.0</td>\n",
       "      <td>3.0</td>\n",
       "      <td>8.21</td>\n",
       "      <td>0</td>\n",
       "      <td>0.65</td>\n",
       "    </tr>\n",
       "  </tbody>\n",
       "</table>\n",
       "</div>"
      ],
      "text/plain": [
       "   GRE Score  TOEFL Score  University Rating  SOP  LOR   CGPA  Research  Chance of Admit \n",
       "0        337          118                  4  4.5   4.5  9.65         1              0.92\n",
       "1        324          107                  4  4.0   4.5  8.87         1              0.76\n",
       "2        316          104                  3  3.0   3.5  8.00         1              0.72\n",
       "3        322          110                  3  3.5   2.5  8.67         1              0.80\n",
       "4        314          103                  2  2.0   3.0  8.21         0              0.65"
      ]
     },
     "execution_count": 3,
     "metadata": {},
     "output_type": "execute_result"
    }
   ],
   "source": [
    "df.head()"
   ]
  },
  {
   "cell_type": "code",
   "execution_count": 13,
   "id": "ee13cf9e",
   "metadata": {},
   "outputs": [],
   "source": [
    "# preditora e target\n",
    "x = df.drop(columns=['Chance of Admit '])\n",
    "y = df['Chance of Admit ']"
   ]
  },
  {
   "cell_type": "code",
   "execution_count": null,
   "id": "2d663f9f",
   "metadata": {},
   "outputs": [
    {
     "name": "stdout",
     "output_type": "stream",
     "text": [
      "Resultados dos modelos:\n",
      "Regressão Linear Simples: R² médio = 0.7820\n",
      "Regressão Ridge: R² médio = 0.7821\n",
      "Regressão Lasso: R² médio = 0.2242\n",
      "Regressão ElasticNet: R² médio = 0.5216\n"
     ]
    }
   ],
   "source": [
    "# resultados dos modelos com k-fold\n",
    "modelos_lineares_kf(x, y)"
   ]
  }
 ],
 "metadata": {
  "kernelspec": {
   "display_name": "base",
   "language": "python",
   "name": "python3"
  },
  "language_info": {
   "codemirror_mode": {
    "name": "ipython",
    "version": 3
   },
   "file_extension": ".py",
   "mimetype": "text/x-python",
   "name": "python",
   "nbconvert_exporter": "python",
   "pygments_lexer": "ipython3",
   "version": "3.12.4"
  }
 },
 "nbformat": 4,
 "nbformat_minor": 5
}
