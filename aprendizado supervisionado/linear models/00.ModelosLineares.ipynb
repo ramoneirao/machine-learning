{
 "cells": [
  {
   "cell_type": "markdown",
   "id": "b0e46deb",
   "metadata": {},
   "source": [
    "# **Estudo de Modelos de Regressão**\n",
    "\n",
    "Neste notebook, aplicaremos os seguintes modelos de regressão: Linear, Ridge, Lasso e Elastic Net, utilizando o conjunto de dados [Graduate Admissions](https://www.kaggle.com/datasets/mohansacharya/graduate-admissions).\n",
    "\n",
    "## **Objetivo**\n",
    "\n",
    "O objetivo deste estudo é prever a chance de admissão de um candidato em programas de pós-graduação com base em diversas características."
   ]
  },
  {
   "cell_type": "markdown",
   "id": "e9fa413d",
   "metadata": {},
   "source": [
    "## **Importando Bibliotecas**"
   ]
  },
  {
   "cell_type": "code",
   "execution_count": null,
   "id": "372fcde0",
   "metadata": {},
   "outputs": [],
   "source": [
    "import pandas as pd\n",
    "import warnings\n",
    "from src.utils import *\n",
    "from sklearn.model_selection import train_test_split\n",
    "\n",
    "warnings.filterwarnings(\"ignore\")\n",
    "pd.set_option('display.max_columns', None)\n",
    "pd.set_option('display.width', 1000)"
   ]
  },
  {
   "cell_type": "markdown",
   "id": "cddc1168",
   "metadata": {},
   "source": [
    "## **Preparação dos Dados**\n",
    "\n",
    "Nesta etapa, serão realizadas as seguintes ações:\n",
    "\n",
    "1. **Exclusão de Features Irrelevantes**: Serão removidas as colunas que não contribuem para a previsão do preço das casas, como identificadores únicos ou informações redundantes.\n",
    "2. **Definição das Variáveis Preditoras (Features)**: Selecionaremos as colunas que possuem relevância para o modelo, ou seja, aquelas que contêm informações úteis para prever o preço das casas.\n",
    "3. **Definição da Variável Target**: A variável alvo será definida como a coluna que representa o preço de venda das casas, que é o objetivo principal da previsão.\n",
    "\n",
    "Essas etapas são fundamentais para garantir que os modelos sejam treinados com dados limpos e relevantes, maximizando as performances."
   ]
  },
  {
   "cell_type": "code",
   "execution_count": 2,
   "id": "88d6be4a",
   "metadata": {},
   "outputs": [
    {
     "data": {
      "text/html": [
       "<div>\n",
       "<style scoped>\n",
       "    .dataframe tbody tr th:only-of-type {\n",
       "        vertical-align: middle;\n",
       "    }\n",
       "\n",
       "    .dataframe tbody tr th {\n",
       "        vertical-align: top;\n",
       "    }\n",
       "\n",
       "    .dataframe thead th {\n",
       "        text-align: right;\n",
       "    }\n",
       "</style>\n",
       "<table border=\"1\" class=\"dataframe\">\n",
       "  <thead>\n",
       "    <tr style=\"text-align: right;\">\n",
       "      <th></th>\n",
       "      <th>Serial No.</th>\n",
       "      <th>GRE Score</th>\n",
       "      <th>TOEFL Score</th>\n",
       "      <th>University Rating</th>\n",
       "      <th>SOP</th>\n",
       "      <th>LOR</th>\n",
       "      <th>CGPA</th>\n",
       "      <th>Research</th>\n",
       "      <th>Chance of Admit</th>\n",
       "    </tr>\n",
       "  </thead>\n",
       "  <tbody>\n",
       "    <tr>\n",
       "      <th>0</th>\n",
       "      <td>1</td>\n",
       "      <td>337</td>\n",
       "      <td>118</td>\n",
       "      <td>4</td>\n",
       "      <td>4.5</td>\n",
       "      <td>4.5</td>\n",
       "      <td>9.65</td>\n",
       "      <td>1</td>\n",
       "      <td>0.92</td>\n",
       "    </tr>\n",
       "    <tr>\n",
       "      <th>1</th>\n",
       "      <td>2</td>\n",
       "      <td>324</td>\n",
       "      <td>107</td>\n",
       "      <td>4</td>\n",
       "      <td>4.0</td>\n",
       "      <td>4.5</td>\n",
       "      <td>8.87</td>\n",
       "      <td>1</td>\n",
       "      <td>0.76</td>\n",
       "    </tr>\n",
       "    <tr>\n",
       "      <th>2</th>\n",
       "      <td>3</td>\n",
       "      <td>316</td>\n",
       "      <td>104</td>\n",
       "      <td>3</td>\n",
       "      <td>3.0</td>\n",
       "      <td>3.5</td>\n",
       "      <td>8.00</td>\n",
       "      <td>1</td>\n",
       "      <td>0.72</td>\n",
       "    </tr>\n",
       "    <tr>\n",
       "      <th>3</th>\n",
       "      <td>4</td>\n",
       "      <td>322</td>\n",
       "      <td>110</td>\n",
       "      <td>3</td>\n",
       "      <td>3.5</td>\n",
       "      <td>2.5</td>\n",
       "      <td>8.67</td>\n",
       "      <td>1</td>\n",
       "      <td>0.80</td>\n",
       "    </tr>\n",
       "    <tr>\n",
       "      <th>4</th>\n",
       "      <td>5</td>\n",
       "      <td>314</td>\n",
       "      <td>103</td>\n",
       "      <td>2</td>\n",
       "      <td>2.0</td>\n",
       "      <td>3.0</td>\n",
       "      <td>8.21</td>\n",
       "      <td>0</td>\n",
       "      <td>0.65</td>\n",
       "    </tr>\n",
       "  </tbody>\n",
       "</table>\n",
       "</div>"
      ],
      "text/plain": [
       "   Serial No.  GRE Score  TOEFL Score  University Rating  SOP  LOR   CGPA  Research  Chance of Admit \n",
       "0           1        337          118                  4  4.5   4.5  9.65         1              0.92\n",
       "1           2        324          107                  4  4.0   4.5  8.87         1              0.76\n",
       "2           3        316          104                  3  3.0   3.5  8.00         1              0.72\n",
       "3           4        322          110                  3  3.5   2.5  8.67         1              0.80\n",
       "4           5        314          103                  2  2.0   3.0  8.21         0              0.65"
      ]
     },
     "execution_count": 2,
     "metadata": {},
     "output_type": "execute_result"
    }
   ],
   "source": [
    "# Carregando os dados\n",
    "df = pd.read_csv('../../base/Admission_Predict.csv')\n",
    "df.head()"
   ]
  },
  {
   "cell_type": "code",
   "execution_count": 3,
   "id": "49b18fe4",
   "metadata": {},
   "outputs": [
    {
     "data": {
      "text/plain": [
       "Serial No.             int64\n",
       "GRE Score              int64\n",
       "TOEFL Score            int64\n",
       "University Rating      int64\n",
       "SOP                  float64\n",
       "LOR                  float64\n",
       "CGPA                 float64\n",
       "Research               int64\n",
       "Chance of Admit      float64\n",
       "dtype: object"
      ]
     },
     "execution_count": 3,
     "metadata": {},
     "output_type": "execute_result"
    }
   ],
   "source": [
    "df.dtypes"
   ]
  },
  {
   "cell_type": "code",
   "execution_count": 4,
   "id": "7e78234a",
   "metadata": {},
   "outputs": [
    {
     "data": {
      "text/plain": [
       "Serial No.           0.0\n",
       "GRE Score            0.0\n",
       "TOEFL Score          0.0\n",
       "University Rating    0.0\n",
       "SOP                  0.0\n",
       "LOR                  0.0\n",
       "CGPA                 0.0\n",
       "Research             0.0\n",
       "Chance of Admit      0.0\n",
       "dtype: float64"
      ]
     },
     "execution_count": 4,
     "metadata": {},
     "output_type": "execute_result"
    }
   ],
   "source": [
    "verifica_faltantes(df)"
   ]
  },
  {
   "cell_type": "code",
   "execution_count": 5,
   "id": "eea892ce",
   "metadata": {},
   "outputs": [],
   "source": [
    "# Removendo colunas desnecessárias\n",
    "df.drop(columns=['Serial No.'], inplace=True)  "
   ]
  },
  {
   "cell_type": "code",
   "execution_count": 6,
   "id": "344b5d57",
   "metadata": {},
   "outputs": [],
   "source": [
    "# separando em variáveis preditoras e resposta\n",
    "X = df.drop(columns=['Chance of Admit '])\n",
    "y = df['Chance of Admit ']\n",
    "\n",
    "# dividindo em treino e teste\n",
    "X_train, X_test, y_train, y_test = train_test_split(X, y, test_size=0.2, random_state=42)"
   ]
  },
  {
   "cell_type": "markdown",
   "id": "94e98053",
   "metadata": {},
   "source": [
    "## **Criação e Avaliação do Modelo**\n",
    "\n",
    "Nesta etapa, serão criado os modelos de Regressão utilizando a função escrirta no `utils.py`."
   ]
  },
  {
   "cell_type": "code",
   "execution_count": 7,
   "id": "918a774f",
   "metadata": {},
   "outputs": [
    {
     "name": "stdout",
     "output_type": "stream",
     "text": [
      "Resultados dos modelos:\n",
      "Regressão Linear Simples: R² = 0.8212082591486992\n",
      "Regressão Ridge: R² = 0.8204337208459436\n",
      "Regressão Lasso: R² = 0.2122576911382904\n",
      "Regressão ElasticNet: R² = 0.5135070787454863\n"
     ]
    }
   ],
   "source": [
    "modelos_lineares(X_train, y_train, X_test, y_test, melhor_modelo=False)"
   ]
  },
  {
   "cell_type": "code",
   "execution_count": 8,
   "id": "e27be266",
   "metadata": {},
   "outputs": [
    {
     "name": "stdout",
     "output_type": "stream",
     "text": [
      "Melhor modelo: Regressão Linear Simples com R² = 0.8212082591486992\n"
     ]
    }
   ],
   "source": [
    "modelos_lineares(X_train, y_train, X_test, y_test, melhor_modelo=True)"
   ]
  }
 ],
 "metadata": {
  "kernelspec": {
   "display_name": "base",
   "language": "python",
   "name": "python3"
  },
  "language_info": {
   "codemirror_mode": {
    "name": "ipython",
    "version": 3
   },
   "file_extension": ".py",
   "mimetype": "text/x-python",
   "name": "python",
   "nbconvert_exporter": "python",
   "pygments_lexer": "ipython3",
   "version": "3.12.4"
  }
 },
 "nbformat": 4,
 "nbformat_minor": 5
}
